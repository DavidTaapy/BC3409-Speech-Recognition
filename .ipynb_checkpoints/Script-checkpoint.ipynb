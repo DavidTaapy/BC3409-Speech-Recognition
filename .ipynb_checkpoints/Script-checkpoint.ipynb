{
 "cells": [
  {
   "cell_type": "code",
   "execution_count": 3,
   "id": "08a97e51",
   "metadata": {},
   "outputs": [],
   "source": [
    "# Import Libraries\n",
    "import speech_recognition as sr"
   ]
  },
  {
   "cell_type": "code",
   "execution_count": 4,
   "id": "4fd2b471",
   "metadata": {},
   "outputs": [],
   "source": [
    "# Import Data\n",
    "audio = sr.AudioFile(\"Sound.wav\")"
   ]
  },
  {
   "cell_type": "code",
   "execution_count": 5,
   "id": "68713dd0",
   "metadata": {},
   "outputs": [],
   "source": [
    "# Format Audio File\n",
    "with audio as source:\n",
    "    audio = sr.Recognizer().record(source)"
   ]
  },
  {
   "cell_type": "code",
   "execution_count": 6,
   "id": "0c574b45",
   "metadata": {},
   "outputs": [
    {
     "name": "stdout",
     "output_type": "stream",
     "text": [
      "Birch canoe slid on the smooth plank glue the sea to a dark blue background it is easy to tell the depth of the well these days a chicken leg of a variegated price is often served in Randall's the juice of lemons makes find the boxes on the side the pump truck the ha grimstead top corn and garbage for hours of City Works in a large size and stockings and hard to sell\n"
     ]
    }
   ],
   "source": [
    "# Output\n",
    "print(sr.Recognizer().recognize_google(audio))"
   ]
  }
 ],
 "metadata": {
  "kernelspec": {
   "display_name": "Python 3 (ipykernel)",
   "language": "python",
   "name": "python3"
  },
  "language_info": {
   "codemirror_mode": {
    "name": "ipython",
    "version": 3
   },
   "file_extension": ".py",
   "mimetype": "text/x-python",
   "name": "python",
   "nbconvert_exporter": "python",
   "pygments_lexer": "ipython3",
   "version": "3.9.7"
  }
 },
 "nbformat": 4,
 "nbformat_minor": 5
}
